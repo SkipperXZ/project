{
 "cells": [
  {
   "cell_type": "code",
   "execution_count": 27,
   "metadata": {},
   "outputs": [],
   "source": [
    "#from wand.image import Image\n",
    "import time\n",
    "import numpy as np\n",
    "import cv2\n",
    "import sys\n",
    "from turbojpeg import TurboJPEG, TJPF_GRAY, TJSAMP_GRAY, TJFLAG_PROGRESSIVE\n",
    "'''\n",
    "def resize(inputPath, outputPath,compression_quality,width,height):\n",
    "    with Image(filename=inputPath) as img:\n",
    "        img.compression_quality = compression_quality\n",
    "        img.resize(width, height)    \n",
    "        img.format = 'png'\n",
    "        img.save(filename=outputPath)\n",
    "def encodeAndSave(path, img, jpg_quality=70, png_compression=None):\n",
    "  if jpg_quality:\n",
    "    cv2.imwrite(path, img, [int(cv2.IMWRITE_JPEG_QUALITY), jpg_quality])\n",
    "  elif png_compression:\n",
    "    cv2.imwrite(path, img, [int(cv2.IMWRITE_PNG_COMPRESSION), png_compression])\n",
    "  else:\n",
    "    cv2.imwrite(path, img)\n",
    "'''\n",
    "def encode(img,jpeg_quality):\n",
    "    encode_param = [int(cv2.IMWRITE_JPEG_QUALITY), jpeg_quality]\n",
    "    encimg = cv2.imencode('.jpg',img, encode_param)[1].tobytes()\n",
    "    return encimg"
   ]
  },
  {
   "cell_type": "code",
   "execution_count": 20,
   "metadata": {},
   "outputs": [],
   "source": [
    "imgpath4k = \"rawim/4kImg.png\"\n",
    "img4k = cv2.imread(imgpath4k)\n",
    "imgpath2k = \"rawim/2kImg.png\"\n",
    "img2k = cv2.imread(imgpath2k)\n",
    "imgpathFull = \"rawim/fullImg.png\"\n",
    "imgFull = cv2.imread(imgpathFull)\n",
    "imgpathHd = \"rawim/hdImg.png\"\n",
    "imgHD = cv2.imread(imgpathHd)\n",
    "imgpathVga = \"rawim/vgaImg.png\"\n",
    "imgVga = cv2.imread(imgpathVga)\n"
   ]
  },
  {
   "cell_type": "code",
   "execution_count": 21,
   "metadata": {},
   "outputs": [
    {
     "data": {
      "text/plain": [
       "\"\\n# Image to numpy array\\nnp_arr = np.fromstring(encodeImageCv2, np.uint8)\\n# Decode to cv2 image and store\\nde= cv2.imdecode(np_arr,cv2.IMREAD_COLOR)\\n\\ncv2.imshow('image',de)\\ncv2.waitKey(0)\\ncv2.destroyAllWindows()\\n\""
      ]
     },
     "execution_count": 21,
     "metadata": {},
     "output_type": "execute_result"
    }
   ],
   "source": [
    "'''\n",
    "# Image to numpy array\n",
    "np_arr = np.fromstring(encodeImageCv2, np.uint8)\n",
    "# Decode to cv2 image and store\n",
    "de= cv2.imdecode(np_arr,cv2.IMREAD_COLOR)\n",
    "\n",
    "cv2.imshow('image',de)\n",
    "cv2.waitKey(0)\n",
    "cv2.destroyAllWindows()\n",
    "'''"
   ]
  },
  {
   "cell_type": "code",
   "execution_count": 22,
   "metadata": {},
   "outputs": [],
   "source": [
    "# using default library installation\n",
    "jpeg = TurboJPEG('/usr/lib/aarch64-linux-gnu/libturbojpeg.so.0')"
   ]
  },
  {
   "cell_type": "code",
   "execution_count": null,
   "metadata": {},
   "outputs": [],
   "source": [
    "\n"
   ]
  },
  {
   "cell_type": "code",
   "execution_count": null,
   "metadata": {},
   "outputs": [],
   "source": []
  },
  {
   "cell_type": "code",
   "execution_count": 23,
   "metadata": {},
   "outputs": [
    {
     "ename": "NameError",
     "evalue": "name 'encodeImage' is not defined",
     "output_type": "error",
     "traceback": [
      "\u001b[0;31m---------------------------------------------------------------------------\u001b[0m",
      "\u001b[0;31mNameError\u001b[0m                                 Traceback (most recent call last)",
      "\u001b[0;32m<ipython-input-23-194009ec5e31>\u001b[0m in \u001b[0;36m<module>\u001b[0;34m\u001b[0m\n\u001b[1;32m      1\u001b[0m \u001b[0;31m# Image to numpy array\u001b[0m\u001b[0;34m\u001b[0m\u001b[0;34m\u001b[0m\u001b[0;34m\u001b[0m\u001b[0m\n\u001b[0;32m----> 2\u001b[0;31m \u001b[0mnp_arr\u001b[0m \u001b[0;34m=\u001b[0m \u001b[0mnp\u001b[0m\u001b[0;34m.\u001b[0m\u001b[0mfromstring\u001b[0m\u001b[0;34m(\u001b[0m\u001b[0mencodeImage\u001b[0m\u001b[0;34m,\u001b[0m \u001b[0mnp\u001b[0m\u001b[0;34m.\u001b[0m\u001b[0muint8\u001b[0m\u001b[0;34m)\u001b[0m\u001b[0;34m\u001b[0m\u001b[0;34m\u001b[0m\u001b[0m\n\u001b[0m\u001b[1;32m      3\u001b[0m \u001b[0;31m# Decode to cv2 image and store\u001b[0m\u001b[0;34m\u001b[0m\u001b[0;34m\u001b[0m\u001b[0;34m\u001b[0m\u001b[0m\n\u001b[1;32m      4\u001b[0m \u001b[0mde\u001b[0m\u001b[0;34m=\u001b[0m \u001b[0mcv2\u001b[0m\u001b[0;34m.\u001b[0m\u001b[0mimdecode\u001b[0m\u001b[0;34m(\u001b[0m\u001b[0mnp_arr\u001b[0m\u001b[0;34m,\u001b[0m\u001b[0mcv2\u001b[0m\u001b[0;34m.\u001b[0m\u001b[0mIMREAD_COLOR\u001b[0m\u001b[0;34m)\u001b[0m\u001b[0;34m\u001b[0m\u001b[0;34m\u001b[0m\u001b[0m\n",
      "\u001b[0;31mNameError\u001b[0m: name 'encodeImage' is not defined"
     ]
    }
   ],
   "source": [
    "# Image to numpy array\n",
    "np_arr = np.fromstring(encodeImage, np.uint8)\n",
    "# Decode to cv2 image and store\n",
    "de= cv2.imdecode(np_arr,cv2.IMREAD_COLOR)"
   ]
  },
  {
   "cell_type": "code",
   "execution_count": 24,
   "metadata": {},
   "outputs": [],
   "source": [
    "\n",
    "out_file = open('4kimgTurbo.jpg', 'wb')\n",
    "out_file.write(jpeg.encode(img4k, quality=70))\n",
    "out_file.close()"
   ]
  },
  {
   "cell_type": "code",
   "execution_count": 37,
   "metadata": {},
   "outputs": [],
   "source": [
    "#encodeAndSave('4kimgOpencv.jpg',img,70)\n",
    "\n",
    "def bencmark(img):\n",
    "    jpegQuality = 10\n",
    "    bencTable = [] \n",
    "    turboDuration = 0\n",
    "    turbosize = 0\n",
    "    opencvDuration = 0\n",
    "    opencvSize = 0\n",
    "    while(jpegQuality <= 100):\n",
    "        start = time.time()  \n",
    "        encodeImageTurbo = jpeg.encode(img, quality=jpegQuality)\n",
    "        end = time.time()  \n",
    "\n",
    "        turboDuration = (end - start)*1000\n",
    "        turbosize =sys.getsizeof(encodeImageTurbo)/1024\n",
    "\n",
    "        start = time.time()  \n",
    "        encodeImageCv2 = encode(img,jpegQuality)\n",
    "        end = time.time() \n",
    "\n",
    "        opencvDuration = (end - start)*1000\n",
    "        opencvSize =sys.getsizeof(encodeImageCv2)/1024 \n",
    "\n",
    "        bencTable.append([jpegQuality,round(turboDuration,2)\n",
    "        ,round(turbosize,2),round(1000/turboDuration,2),round(opencvDuration,2),round(opencvSize,2),round(1000/opencvDuration,2)])\n",
    "\n",
    "        jpegQuality = jpegQuality+10\n",
    "    return bencTable"
   ]
  },
  {
   "cell_type": "code",
   "execution_count": 39,
   "metadata": {},
   "outputs": [
    {
     "name": "stdout",
     "output_type": "stream",
     "text": [
      "[[10, 125.31, 178.62, 7.98, 135.5, 147.46, 7.38], [20, 123.27, 207.79, 8.11, 133.89, 176.56, 7.47], [30, 125.89, 238.47, 7.94, 137.44, 205.3, 7.28], [40, 129.53, 274.04, 7.72, 137.67, 237.76, 7.26], [50, 129.61, 322.01, 7.72, 140.23, 281.08, 7.13], [60, 134.39, 390.79, 7.44, 142.06, 340.83, 7.04], [70, 138.03, 522.89, 7.24, 146.36, 454.62, 6.83], [80, 146.25, 780.09, 6.84, 151.25, 667.45, 6.61], [90, 161.83, 1434.2, 6.18, 162.84, 1206.22, 6.14], [100, 293.48, 7848.49, 3.41, 248.99, 5751.87, 4.02]]\n"
     ]
    }
   ],
   "source": [
    "\n",
    "benc4kTable = bencmark(img4k)\n",
    "benc2kTable = bencmark(img2k)\n",
    "bencFullTable = bencmark(imgFull)\n",
    "bencHDTable = bencmark(imgHD)\n",
    "bencVgaTable =bencmark(imgVga)\n",
    "\n",
    "\n",
    "    \n",
    "print(benc4kTable)"
   ]
  },
  {
   "cell_type": "code",
   "execution_count": 40,
   "metadata": {},
   "outputs": [],
   "source": [
    "\n",
    "import csv\n",
    "\n",
    "with open('bencmark4k.csv', mode='w', newline='') as bencmark_file:\n",
    "    bencmark_writer = csv.writer(bencmark_file, delimiter=',', quotechar='\"', quoting=csv.QUOTE_MINIMAL)\n",
    "    for i in benc4kTable:\n",
    "        bencmark_writer.writerow(i)\n",
    "with open('bencmark2k.csv', mode='w', newline='') as bencmark_file:\n",
    "    bencmark_writer = csv.writer(bencmark_file, delimiter=',', quotechar='\"', quoting=csv.QUOTE_MINIMAL)\n",
    "    for i in benc2kTable:\n",
    "        bencmark_writer.writerow(i)\n",
    "with open('bencmarkFull.csv', mode='w', newline='') as bencmark_file:\n",
    "    bencmark_writer = csv.writer(bencmark_file, delimiter=',', quotechar='\"', quoting=csv.QUOTE_MINIMAL)\n",
    "    for i in bencFullTable:\n",
    "        bencmark_writer.writerow(i)\n",
    "with open('bencmarkHD.csv', mode='w', newline='') as bencmark_file:\n",
    "    bencmark_writer = csv.writer(bencmark_file, delimiter=',', quotechar='\"', quoting=csv.QUOTE_MINIMAL)\n",
    "    for i in bencHDTable:\n",
    "        bencmark_writer.writerow(i)\n",
    "with open('bencmarkVga.csv', mode='w', newline='') as bencmark_file:\n",
    "    bencmark_writer = csv.writer(bencmark_file, delimiter=',', quotechar='\"', quoting=csv.QUOTE_MINIMAL)\n",
    "    for i in bencVgaTable:\n",
    "        bencmark_writer.writerow(i)"
   ]
  },
  {
   "cell_type": "code",
   "execution_count": 116,
   "metadata": {},
   "outputs": [
    {
     "name": "stdout",
     "output_type": "stream",
     "text": [
      "0.1097412109375\n"
     ]
    }
   ],
   "source": [
    "start = time.time()  \n",
    "encodeImageCv2 = encode(img4k,80)\n",
    "end = time.time() \n",
    "print(end-start)"
   ]
  },
  {
   "cell_type": "code",
   "execution_count": null,
   "metadata": {},
   "outputs": [],
   "source": []
  }
 ],
 "metadata": {
  "kernelspec": {
   "display_name": "Python 3",
   "language": "python",
   "name": "python3"
  },
  "language_info": {
   "codemirror_mode": {
    "name": "ipython",
    "version": 3
   },
   "file_extension": ".py",
   "mimetype": "text/x-python",
   "name": "python",
   "nbconvert_exporter": "python",
   "pygments_lexer": "ipython3",
   "version": "3.7.3"
  }
 },
 "nbformat": 4,
 "nbformat_minor": 2
}

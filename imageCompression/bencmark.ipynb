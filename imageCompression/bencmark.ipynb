{
 "cells": [
  {
   "cell_type": "code",
   "execution_count": 38,
   "metadata": {},
   "outputs": [],
   "source": [
    "from wand.image import Image\n",
    "import time\n",
    "import numpy as np\n",
    "import cv2\n",
    "import sys\n",
    "from turbojpeg import TurboJPEG, TJPF_GRAY, TJSAMP_GRAY, TJFLAG_PROGRESSIVE\n",
    "\n",
    "def resize(inputPath, outputPath,compression_quality,width,height):\n",
    "    with Image(filename=inputPath) as img:\n",
    "        img.compression_quality = compression_quality\n",
    "        img.resize(width, height)    \n",
    "        img.format = 'png'\n",
    "        img.save(filename=outputPath)\n",
    "def encodeAndSave(path, img, jpg_quality=70, png_compression=None):\n",
    "  if jpg_quality:\n",
    "    cv2.imwrite(path, img, [int(cv2.IMWRITE_JPEG_QUALITY), jpg_quality])\n",
    "  elif png_compression:\n",
    "    cv2.imwrite(path, img, [int(cv2.IMWRITE_PNG_COMPRESSION), png_compression])\n",
    "  else:\n",
    "    cv2.imwrite(path, img)\n",
    "    \n",
    "def encode(img,jpeg_quality):\n",
    "    encode_param = [int(cv2.IMWRITE_JPEG_QUALITY), jpeg_quality]\n",
    "    encimg = cv2.imencode('.jpg',img, encode_param)[1].tobytes()\n",
    "    return encimg"
   ]
  },
  {
   "cell_type": "code",
   "execution_count": 34,
   "metadata": {},
   "outputs": [],
   "source": [
    "imgpath4k = \"rawim/4kImg.png\"\n",
    "img4k = cv2.imread(imgpath4k)\n",
    "imgpath2k = \"rawim/2kImg.png\"\n",
    "img2k = cv2.imread(imgpath2k)\n",
    "imgpathFull = \"rawim/fullImg.png\"\n",
    "imgFull = cv2.imread(imgpathFull)\n",
    "imgpathHd = \"rawim/hdImg.png\"\n",
    "imgHD = cv2.imread(imgpathHd)\n",
    "imgpathVga = \"rawim/vgaImg.png\"\n",
    "imgVga = cv2.imread(imgpathVga)\n"
   ]
  },
  {
   "cell_type": "code",
   "execution_count": 35,
   "metadata": {},
   "outputs": [
    {
     "data": {
      "text/plain": [
       "\"\\n# Image to numpy array\\nnp_arr = np.fromstring(encodeImageCv2, np.uint8)\\n# Decode to cv2 image and store\\nde= cv2.imdecode(np_arr,cv2.IMREAD_COLOR)\\n\\ncv2.imshow('image',de)\\ncv2.waitKey(0)\\ncv2.destroyAllWindows()\\n\""
      ]
     },
     "execution_count": 35,
     "metadata": {},
     "output_type": "execute_result"
    }
   ],
   "source": [
    "'''\n",
    "# Image to numpy array\n",
    "np_arr = np.fromstring(encodeImageCv2, np.uint8)\n",
    "# Decode to cv2 image and store\n",
    "de= cv2.imdecode(np_arr,cv2.IMREAD_COLOR)\n",
    "\n",
    "cv2.imshow('image',de)\n",
    "cv2.waitKey(0)\n",
    "cv2.destroyAllWindows()\n",
    "'''"
   ]
  },
  {
   "cell_type": "code",
   "execution_count": 36,
   "metadata": {},
   "outputs": [],
   "source": [
    "# using default library installation\n",
    "jpeg = TurboJPEG(r'C:\\libjpeg-turbo64\\bin\\turbojpeg.dll')"
   ]
  },
  {
   "cell_type": "code",
   "execution_count": null,
   "metadata": {},
   "outputs": [],
   "source": [
    "\n"
   ]
  },
  {
   "cell_type": "code",
   "execution_count": null,
   "metadata": {},
   "outputs": [],
   "source": []
  },
  {
   "cell_type": "code",
   "execution_count": 23,
   "metadata": {},
   "outputs": [
    {
     "ename": "NameError",
     "evalue": "name 'encodeImage' is not defined",
     "output_type": "error",
     "traceback": [
      "\u001b[1;31m---------------------------------------------------------------------------\u001b[0m",
      "\u001b[1;31mNameError\u001b[0m                                 Traceback (most recent call last)",
      "\u001b[1;32m<ipython-input-23-194009ec5e31>\u001b[0m in \u001b[0;36m<module>\u001b[1;34m\u001b[0m\n\u001b[0;32m      1\u001b[0m \u001b[1;31m# Image to numpy array\u001b[0m\u001b[1;33m\u001b[0m\u001b[1;33m\u001b[0m\u001b[1;33m\u001b[0m\u001b[0m\n\u001b[1;32m----> 2\u001b[1;33m \u001b[0mnp_arr\u001b[0m \u001b[1;33m=\u001b[0m \u001b[0mnp\u001b[0m\u001b[1;33m.\u001b[0m\u001b[0mfromstring\u001b[0m\u001b[1;33m(\u001b[0m\u001b[0mencodeImage\u001b[0m\u001b[1;33m,\u001b[0m \u001b[0mnp\u001b[0m\u001b[1;33m.\u001b[0m\u001b[0muint8\u001b[0m\u001b[1;33m)\u001b[0m\u001b[1;33m\u001b[0m\u001b[1;33m\u001b[0m\u001b[0m\n\u001b[0m\u001b[0;32m      3\u001b[0m \u001b[1;31m# Decode to cv2 image and store\u001b[0m\u001b[1;33m\u001b[0m\u001b[1;33m\u001b[0m\u001b[1;33m\u001b[0m\u001b[0m\n\u001b[0;32m      4\u001b[0m \u001b[0mde\u001b[0m\u001b[1;33m=\u001b[0m \u001b[0mcv2\u001b[0m\u001b[1;33m.\u001b[0m\u001b[0mimdecode\u001b[0m\u001b[1;33m(\u001b[0m\u001b[0mnp_arr\u001b[0m\u001b[1;33m,\u001b[0m\u001b[0mcv2\u001b[0m\u001b[1;33m.\u001b[0m\u001b[0mIMREAD_COLOR\u001b[0m\u001b[1;33m)\u001b[0m\u001b[1;33m\u001b[0m\u001b[1;33m\u001b[0m\u001b[0m\n",
      "\u001b[1;31mNameError\u001b[0m: name 'encodeImage' is not defined"
     ]
    }
   ],
   "source": [
    "# Image to numpy array\n",
    "np_arr = np.fromstring(encodeImage, np.uint8)\n",
    "# Decode to cv2 image and store\n",
    "de= cv2.imdecode(np_arr,cv2.IMREAD_COLOR)"
   ]
  },
  {
   "cell_type": "code",
   "execution_count": 24,
   "metadata": {},
   "outputs": [
    {
     "ename": "NameError",
     "evalue": "name 'img' is not defined",
     "output_type": "error",
     "traceback": [
      "\u001b[1;31m---------------------------------------------------------------------------\u001b[0m",
      "\u001b[1;31mNameError\u001b[0m                                 Traceback (most recent call last)",
      "\u001b[1;32m<ipython-input-24-d2d60ee94703>\u001b[0m in \u001b[0;36m<module>\u001b[1;34m\u001b[0m\n\u001b[0;32m      1\u001b[0m \u001b[0mout_file\u001b[0m \u001b[1;33m=\u001b[0m \u001b[0mopen\u001b[0m\u001b[1;33m(\u001b[0m\u001b[1;34m'4kimgTurbo.jpg'\u001b[0m\u001b[1;33m,\u001b[0m \u001b[1;34m'wb'\u001b[0m\u001b[1;33m)\u001b[0m\u001b[1;33m\u001b[0m\u001b[1;33m\u001b[0m\u001b[0m\n\u001b[1;32m----> 2\u001b[1;33m \u001b[0mout_file\u001b[0m\u001b[1;33m.\u001b[0m\u001b[0mwrite\u001b[0m\u001b[1;33m(\u001b[0m\u001b[0mjpeg\u001b[0m\u001b[1;33m.\u001b[0m\u001b[0mencode\u001b[0m\u001b[1;33m(\u001b[0m\u001b[0mimg\u001b[0m\u001b[1;33m,\u001b[0m \u001b[0mquality\u001b[0m\u001b[1;33m=\u001b[0m\u001b[1;36m70\u001b[0m\u001b[1;33m)\u001b[0m\u001b[1;33m)\u001b[0m\u001b[1;33m\u001b[0m\u001b[1;33m\u001b[0m\u001b[0m\n\u001b[0m\u001b[0;32m      3\u001b[0m \u001b[0mout_file\u001b[0m\u001b[1;33m.\u001b[0m\u001b[0mclose\u001b[0m\u001b[1;33m(\u001b[0m\u001b[1;33m)\u001b[0m\u001b[1;33m\u001b[0m\u001b[1;33m\u001b[0m\u001b[0m\n",
      "\u001b[1;31mNameError\u001b[0m: name 'img' is not defined"
     ]
    }
   ],
   "source": []
  },
  {
   "cell_type": "code",
   "execution_count": 29,
   "metadata": {},
   "outputs": [],
   "source": [
    "def saveAndJpeg(path,encodedImg):\n",
    "        out_file = open(path, 'wb')\n",
    "        out_file.write(encodedImg)\n",
    "        out_file.close()\n",
    "\n"
   ]
  },
  {
   "cell_type": "code",
   "execution_count": 26,
   "metadata": {},
   "outputs": [],
   "source": [
    "def bencmark(img):\n",
    "    jpegQuality = 10\n",
    "    bencTable = [] \n",
    "    turboDuration = 0\n",
    "    turbosize = 0\n",
    "    opencvDuration = 0\n",
    "    opencvSize = 0\n",
    "    while(jpegQuality <= 100):\n",
    "        start = time.time()  \n",
    "        encodeImageTurbo = jpeg.encode(img, quality=jpegQuality)\n",
    "        \n",
    "        turboDuration = (end - start)*1000\n",
    "        turbosize =sys.getsizeof(encodeImageTurbo)/1024\n",
    "\n",
    "        start = time.time()  \n",
    "        encodeImageCv2 = encode(img,jpegQuality)\n",
    "        end = time.time() \n",
    "\n",
    "        opencvDuration = (end - start)*1000\n",
    "        opencvSize =sys.getsizeof(encodeImageCv2)/1024 \n",
    "\n",
    "        bencTable.append([jpegQuality,round(turboDuration,2)\n",
    "        ,round(turbosize,2),round(1000/turboDuration,2),round(opencvDuration,2),round(opencvSize,2),round(1000/opencvDuration,2)])\n",
    "\n",
    "        jpegQuality = jpegQuality+10\n",
    "    return bencTable"
   ]
  },
  {
   "cell_type": "code",
   "execution_count": 27,
   "metadata": {},
   "outputs": [
    {
     "name": "stdout",
     "output_type": "stream",
     "text": [
      "[[10, 23.94, 178.62, 41.78, 99.73, 147.46, 10.03], [20, 22.94, 207.79, 43.59, 101.73, 176.56, 9.83], [30, 22.94, 238.47, 43.58, 101.52, 205.3, 9.85], [40, 23.94, 274.04, 41.78, 99.75, 237.76, 10.02], [50, 24.94, 322.01, 40.1, 100.76, 281.08, 9.92], [60, 25.94, 390.79, 38.55, 101.76, 340.83, 9.83], [70, 27.93, 522.89, 35.8, 103.85, 454.62, 9.63], [80, 30.03, 780.09, 33.3, 109.94, 667.45, 9.1], [90, 37.04, 1434.2, 27.0, 119.01, 1206.22, 8.4], [100, 96.03, 7848.49, 10.41, 170.96, 5751.87, 5.85]]\n"
     ]
    }
   ],
   "source": [
    "benc4kTable = bencmark(img4k)\n",
    "benc2kTable = bencmark(img2k)\n",
    "bencFullTable = bencmark(imgFull)\n",
    "bencHDTable = bencmark(imgHD)\n",
    "bencVgaTable =bencmark(imgVga)\n",
    "\n",
    "\n",
    "    \n",
    "print(benc4kTable)"
   ]
  },
  {
   "cell_type": "code",
   "execution_count": 116,
   "metadata": {},
   "outputs": [
    {
     "name": "stdout",
     "output_type": "stream",
     "text": [
      "0.1097412109375\n"
     ]
    }
   ],
   "source": [
    "start = time.time()  \n",
    "encodeImageCv2 = encode(img4k,80)\n",
    "end = time.time() \n",
    "print(end-start)"
   ]
  },
  {
   "cell_type": "code",
   "execution_count": 30,
   "metadata": {},
   "outputs": [],
   "source": [
    "\n",
    "import csv\n",
    "\n",
    "with open('bencmark4k.csv', mode='w', newline='') as bencmark_file:\n",
    "    bencmark_writer = csv.writer(bencmark_file, delimiter=',', quotechar='\"', quoting=csv.QUOTE_MINIMAL)\n",
    "    for i in benc4kTable:\n",
    "        bencmark_writer.writerow(i)\n",
    "with open('bencmark2k.csv', mode='w', newline='') as bencmark_file:\n",
    "    bencmark_writer = csv.writer(bencmark_file, delimiter=',', quotechar='\"', quoting=csv.QUOTE_MINIMAL)\n",
    "    for i in benc2kTable:\n",
    "        bencmark_writer.writerow(i)\n",
    "with open('bencmarkFull.csv', mode='w', newline='') as bencmark_file:\n",
    "    bencmark_writer = csv.writer(bencmark_file, delimiter=',', quotechar='\"', quoting=csv.QUOTE_MINIMAL)\n",
    "    for i in bencFullTable:\n",
    "        bencmark_writer.writerow(i)\n",
    "with open('bencmarkHD.csv', mode='w', newline='') as bencmark_file:\n",
    "    bencmark_writer = csv.writer(bencmark_file, delimiter=',', quotechar='\"', quoting=csv.QUOTE_MINIMAL)\n",
    "    for i in bencHDTable:\n",
    "        bencmark_writer.writerow(i)\n",
    "with open('bencmarkVga.csv', mode='w', newline='') as bencmark_file:\n",
    "    bencmark_writer = csv.writer(bencmark_file, delimiter=',', quotechar='\"', quoting=csv.QUOTE_MINIMAL)\n",
    "    for i in bencVgaTable:\n",
    "        bencmark_writer.writerow(i)\n",
    "\n",
    "        "
   ]
  },
  {
   "cell_type": "code",
   "execution_count": 45,
   "metadata": {},
   "outputs": [],
   "source": [
    "jpegQuality = 10\n",
    "while(jpegQuality <= 100):\n",
    "    encodedImg = jpeg.encode(imgVga, quality=jpegQuality)\n",
    "    out_file = open('encoded/vga_'+str(jpegQuality)+'.jpg', 'wb')\n",
    "    out_file.write(encodedImg)\n",
    "    out_file.close()\n",
    "    jpegQuality = jpegQuality+10\n"
   ]
  },
  {
   "cell_type": "code",
   "execution_count": null,
   "metadata": {},
   "outputs": [],
   "source": []
  }
 ],
 "metadata": {
  "kernelspec": {
   "display_name": "Python 3",
   "language": "python",
   "name": "python3"
  },
  "language_info": {
   "codemirror_mode": {
    "name": "ipython",
    "version": 3
   },
   "file_extension": ".py",
   "mimetype": "text/x-python",
   "name": "python",
   "nbconvert_exporter": "python",
   "pygments_lexer": "ipython3",
   "version": "3.7.3"
  }
 },
 "nbformat": 4,
 "nbformat_minor": 2
}
